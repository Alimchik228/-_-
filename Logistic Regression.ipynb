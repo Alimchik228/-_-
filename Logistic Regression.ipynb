{
 "cells": [
  {
   "cell_type": "markdown",
   "id": "25dcea21",
   "metadata": {},
   "source": [
    "## Логистическая регрессия"
   ]
  },
  {
   "cell_type": "markdown",
   "id": "bc7a855b",
   "metadata": {},
   "source": [
    "В отличии от линейной регрессии, в логистической регрессии мы будем брать знак от скалярного произведения весов на признаки\n",
    "$$a(x) = \\text{sign}\\left (w_{0}+\\sum^{d}_{i=1}w_{i}x^{i} \\right ).$$"
   ]
  },
  {
   "cell_type": "markdown",
   "id": "565ede5e",
   "metadata": {},
   "source": [
    "$$M_i = y_i(\\langle w,x \\rangle)$$"
   ]
  },
  {
   "cell_type": "markdown",
   "id": "6f893f4f",
   "metadata": {},
   "source": [
    "$M_i > 0$ - классификатор дает верный ответ<br>\n",
    "$M_i < 0$ - классификатор ошибается<br>\n",
    "Чем дальше отступ от нуля, тем классификатор больше уверен в своём ответе"
   ]
  },
  {
   "cell_type": "markdown",
   "id": "e192a880",
   "metadata": {},
   "source": [
    "#### Пояснениее: \n",
    "если $\\langle w,x \\rangle$ предсказывает положительный класс и истинное значение (y) тоже показывает положительный класс, то классификатор $M_i > 0$, также это работает и с отрицательным классом\n",
    "\n",
    "$+   + = +$ \n",
    "\n",
    "$-   - = -$\n",
    "\n",
    "$+   - = -$\n",
    "\n",
    "$-   + = -$"
   ]
  },
  {
   "cell_type": "markdown",
   "id": "af3b5b69",
   "metadata": {},
   "source": [
    "При классификации нам важен не только знак скалярного произведения $\\left \\langle w,x \\right \\rangle$, но и его значение: чем выше оно, тем больше будет расстояние от объекта до разделяющей гиперплоскости, что будет означать, что алгоритм более уверен в отнесении объекта к данному классу. Это приводит нас к значению *отступа*, который равен скалярному произведению вектора весов $w$ на вектор признаков $x$, умноженному на истинное значение ответа $y$, которое, как мы помним, принимает значения -1 и 1:\n",
    "\n",
    "$$M_{i}=y_{i}\\left \\langle w,x_{i} \\right \\rangle.$$\n",
    "\n",
    "Таким образом, если скалярное произведение отрицательно, и истинный ответ равен -1, отступ будет больше нуля. Если скалярное произведение положительно, и истинный ответ равен 1, отступ также будет положителен. То есть $M_{i}>0$, когда классификатор дает верный ответ, и $M_{i}<0$, когда классификатор ошибается. Отступ характеризует корректность ответа, а его абсолютное значение свидетельствует о расстоянии от разделяющей гиперплоскости, то есть о мере уверенности в ответе."
   ]
  },
  {
   "cell_type": "markdown",
   "id": "ce4e83bb",
   "metadata": {},
   "source": [
    "Как и в случае линейной регрессии, для обучения алгоритма линейной классификации требуется измерять ошибку. По аналогии с средней абсолютной ошибкой и среднеквадратичной ошибкой в случае линейной классификации можно использовать естественный подход: так как возможных ответов конечное число, можно требовать полного совпадения предсказанного класса $a(x_{i})$ и истинного $y_{i}$. Тогда в качестве функционала ошибки можно использовать долю неправильных ответов:\n",
    "\n",
    "$$Q(a, X) = \\frac{1}{l}\\sum^{l}_{i=1}[a(x_{i}) \\neq y_{i}]$$\n",
    "\n",
    "или, используя понятие отступа,\n",
    "\n",
    "$$Q(a, X) = \\frac{1}{l}\\sum^{l}_{i=1}[M_{i}<0] = \\frac{1}{l}\\sum^{l}_{i=1}[y_{i}\\left \\langle w,x_{i} \\right \\rangle < 0].$$"
   ]
  },
  {
   "cell_type": "code",
   "execution_count": 5,
   "id": "44b531ae",
   "metadata": {},
   "outputs": [],
   "source": [
    "import matplotlib.pyplot as plt\n",
    "import numpy as np\n",
    "\n",
    "%matplotlib inline"
   ]
  },
  {
   "cell_type": "code",
   "execution_count": 6,
   "id": "eefa6023",
   "metadata": {},
   "outputs": [],
   "source": [
    "def loss_function(x):\n",
    "    return 0 if x > 0 else 1"
   ]
  },
  {
   "cell_type": "code",
   "execution_count": 7,
   "id": "e937a811",
   "metadata": {},
   "outputs": [
    {
     "data": {
      "image/png": "[encoded data removed]",
      "text/plain": [
       "<Figure size 432x288 with 1 Axes>"
      ]
     },
     "metadata": {
      "needs_background": "light"
     },
     "output_type": "display_data"
    }
   ],
   "source": [
    "dots = np.linspace(-3, 3, 1000)\n",
    "q_zero_one_loss = [loss_function(x) for x in dots]\n",
    "\n",
    "plt.xlabel('M')\n",
    "plt.xlim(-3, 3)\n",
    "plt.plot(dots, q_zero_one_loss);"
   ]
  },
  {
   "cell_type": "markdown",
   "id": "0f6e72f4",
   "metadata": {},
   "source": [
    "Она называется _пороговой функцией потерь_ или функцией потерь. Как мы видим, она негладкая, поэтому градиентные методы оптимизации к ней неприменимы. Для упрощения оптимизации используют гладкие оценки сверху этой функции, то есть такие функции, что \n",
    "\n",
    "$$[M_{i}<0] \\leq \\tilde{L}(M_{i}).$$\n",
    "\n",
    "Тогда минимизировать уже нужно эту новую функцию:\n",
    "\n",
    "$$Q(a, X) \\leq \\tilde Q(a, X) = \\frac{1}{l}\\sum^{l}_{i=1}\\tilde{L}(M_{i}) \\rightarrow \\underset{w}{\\text{min}}.$$\n",
    "\n",
    "Примерами могут быть:\n",
    "\n",
    "- _экспоненциальная функция потерь_ $\\tilde{L}(M_{i}) = \\text{exp}(- M_{i})$\n",
    "\n",
    "\n",
    "- _логистическая функция потерь_ $\\tilde{L}(M_{i}) = \\text{log}(1 + \\text{exp}(- M_{i}))$\n",
    "\n",
    "\n",
    "- и др. (см. доп. материалы)\n",
    "\n",
    "Реализуем их и построим соответствующие графики."
   ]
  },
  {
   "cell_type": "code",
   "execution_count": 10,
   "id": "bfdf0fb8",
   "metadata": {},
   "outputs": [],
   "source": [
    "def log_loss(x):\n",
    "    return np.log2(1 + np.exp(-x))"
   ]
  },
  {
   "cell_type": "code",
   "execution_count": 11,
   "id": "f9589ad6",
   "metadata": {},
   "outputs": [],
   "source": [
    "def exp_loss(x):\n",
    "    return np.exp(-x)"
   ]
  },
  {
   "cell_type": "code",
   "execution_count": 15,
   "id": "ac5c3c2f",
   "metadata": {},
   "outputs": [
    {
     "data": {
      "image/png": "[encoded data removed]",
      "text/plain": [
       "<Figure size 432x288 with 1 Axes>"
      ]
     },
     "metadata": {
      "needs_background": "light"
     },
     "output_type": "display_data"
    }
   ],
   "source": [
    "q_exp_loss = [exp_loss(x) for x in dots]\n",
    "q_logistic_loss = [log_loss(x) for x in dots]\n",
    "\n",
    "plt.xlabel('M')\n",
    "plt.xlim(-3, 3)\n",
    "plt.ylim(0, 3)\n",
    "plt.plot(dots, q_zero_one_loss)\n",
    "plt.plot(dots, q_exp_loss)\n",
    "plt.plot(dots, q_logistic_loss)\n",
    "plt.legend(['zero-one loss', 'exponential loss', 'logistic loss']);"
   ]
  },
  {
   "cell_type": "markdown",
   "id": "43064664",
   "metadata": {},
   "source": [
    "Все они оценивают функцию потерь сверху и при этом хорошо оптимизируются."
   ]
  },
  {
   "cell_type": "markdown",
   "id": "978233d1",
   "metadata": {},
   "source": [
    "_Логистическая регрессия_ - частный случай линейного классификатора, обладающий одной полезной особенностью - помимо отнесения объекта к определенному классу она умеет прогнозировать вероятность $P$ того, что объект относится к этому классу."
   ]
  },
  {
   "cell_type": "markdown",
   "id": "e3dfa862",
   "metadata": {},
   "source": [
    "Пусть в каждой точке пространства объектов $\\mathbb{X}$ задана вероятность того, что объект $x$ будет принадлежать к классу \"+1\" $P(y=1|x)$ (условная вероятность $y = 1$ при условии $x$). Она будет принимать значения от 0 до 1, и нам нужно каким-то образом ее предсказывать, но пока мы умеем только строить прогноз методами линейной регрессии с помощью некоего алгоритма $b(x)=\\left \\langle w,x_{i} \\right \\rangle$. У него есть проблема, связанная с тем, что скалярное произведение $\\left \\langle w,x_{i} \\right \\rangle$ не всегда возвращает значения в отрезке [0, 1]. Чтобы достичь такого условия, можно использовать некую функцию $\\sigma:\\mathbb{R} \\rightarrow [0,1]$, которая будет переводить полученное в скалярном произведении значение в вероятность, пределы которой будут лежать в промежутке от 0 до 1. В модели логистической регрессии в качестве такой функции берется сигмоида, которая имеет вид:\n",
    "\n",
    "$$\\sigma(z) = \\frac{1}{1 + exp(-z)}.$$"
   ]
  },
  {
   "cell_type": "code",
   "execution_count": 18,
   "id": "2e9998b0",
   "metadata": {},
   "outputs": [],
   "source": [
    "def sigmoid(x):\n",
    "    return 1 / (1 + np.exp(-x))"
   ]
  },
  {
   "cell_type": "code",
   "execution_count": 19,
   "id": "bd81aed4",
   "metadata": {},
   "outputs": [
    {
     "data": {
      "image/png": "[encoded data removed]",
      "text/plain": [
       "<Figure size 432x288 with 1 Axes>"
      ]
     },
     "metadata": {
      "needs_background": "light"
     },
     "output_type": "display_data"
    }
   ],
   "source": [
    "dots = np.linspace(-10, 10, 100)\n",
    "sigmoid_value = [sigmoid(x) for x in dots]\n",
    "\n",
    "plt.xlabel('x')\n",
    "plt.ylabel('sigmoid(x)')\n",
    "plt.grid()\n",
    "plt.plot(dots, sigmoid_value);"
   ]
  },
  {
   "cell_type": "markdown",
   "id": "149fd297",
   "metadata": {},
   "source": [
    "При использовании такой функции $\\tilde{b}(x_{i}) = \\sigma(\\left \\langle w,x_{i} \\right \\rangle)$ получаем, что вероятность отнесения объекта к классу \"+1\" $P(y=1|x)$, которую для краткости обозначим $p_{+}$, будет равняться\n",
    "\n",
    "$$p_{+} = \\sigma(\\left \\langle w,x_{i} \\right \\rangle) = \\frac{1}{1 + exp(-\\left \\langle w,x_{i} \\right \\rangle)},$$\n",
    "\n",
    "Чем больше будет скалярное произведение $\\left \\langle w,x_{i} \\right \\rangle$, тем выше будет предсказанная вероятность."
   ]
  },
  {
   "cell_type": "code",
   "execution_count": 20,
   "id": "4d2d6227",
   "metadata": {},
   "outputs": [
    {
     "data": {
      "image/png": "[encoded data removed]",
      "text/plain": [
       "<Figure size 432x288 with 1 Axes>"
      ]
     },
     "metadata": {
      "needs_background": "light"
     },
     "output_type": "display_data"
    }
   ],
   "source": [
    "dots = np.linspace(-10, 10, 100)\n",
    "exp_value = list(map(lambda x: np.exp(-x), dots))\n",
    "\n",
    "plt.xlabel('x')\n",
    "plt.ylabel('exp(-x)')\n",
    "plt.grid()\n",
    "plt.plot(dots, exp_value);"
   ]
  },
  {
   "cell_type": "markdown",
   "id": "21a9323b",
   "metadata": {},
   "source": [
    "### Метод максимального правдоподобия <a class='anchor' id='mle'>\n",
    "Далее для обучения этой модели нам потребуется использовать _метод максимального правдоподобия_ (см. доп. материалы). Его сущность заключается в выборе гипотезы, при которой вероятность получить имеющееся наблюдение максимальна.\n",
    "    \n",
    "Пропустим некоторые преобразования, с помощью которых мы из метода максимального правдоподобия переходим к функции потерь\n",
    "    $$-\\text{ln}L(X) = -\\sum^{l}_{i=1}([y_{i} = +1] \\text{ln}p_{+}) + [y_{i} = -1]\\text{ln}(1 - p_{+}))).$$\n",
    "\n",
    "\n",
    "Данная функция потерь называется _логарифмической функцией потерь (log loss)_ или _кросс-энтропией_."
   ]
  },
  {
   "cell_type": "markdown",
   "id": "9b251baf",
   "metadata": {},
   "source": [
    "В случае, когда имеются классы 1 и -1:\n",
    "\n",
    "$$ p_{+} = \\sigma({\\langle w,x \\rangle})$$\n",
    "$$ p_{-} = \\sigma(- {\\langle w,x \\rangle})$$\n",
    "\n",
    "$$ p = \\sigma(y{\\langle w,x \\rangle})$$\n",
    "\n",
    "$$ \\text{ln}L = - \\sum^{l}_{i=1} \\text{ln}(p_{+}^{[y_{i}=+1]}(1-p_{+})^{[y_{i}=-1]}) = $$\n",
    "$$ = - \\sum^{l}_{i=1} \\text{ln}(\\sigma(y{\\langle w,x \\rangle})) = - \\sum^{l}_{i=1} \\text{ln}(\\frac{1}{1 + exp(-y{\\langle w,x \\rangle}})$$\n",
    "$$ = \\sum^{l}_{i=1} \\text{ln}(1 + exp(-y{\\langle w,x \\rangle})$$"
   ]
  },
  {
   "cell_type": "markdown",
   "id": "73c3f8c0",
   "metadata": {},
   "source": [
    "То есть в случае логистической регрессии обучение сводится к минимизации этого функционала."
   ]
  },
  {
   "cell_type": "markdown",
   "id": "59d59e67",
   "metadata": {},
   "source": [
    "### Реализация логистической регрессии"
   ]
  },
  {
   "cell_type": "code",
   "execution_count": 24,
   "id": "298a35fa",
   "metadata": {},
   "outputs": [
    {
     "data": {
      "text/plain": [
       "(array([[ 1.30022717, -0.7856539 ],\n",
       "        [ 1.44184425, -0.56008554],\n",
       "        [-0.84792445, -1.36621324],\n",
       "        [-0.72215015, -1.41129414],\n",
       "        [-1.27221465,  0.25945106],\n",
       "        [ 0.78694271,  0.94294879],\n",
       "        [ 0.81695766, -1.12478707],\n",
       "        [ 1.6822707 , -0.67596877],\n",
       "        [-1.07223343, -0.7701513 ],\n",
       "        [-0.06539297,  1.11257376],\n",
       "        [-1.33232952,  0.60245671],\n",
       "        [-0.6963714 ,  0.96382716],\n",
       "        [ 0.82340614,  0.7561926 ],\n",
       "        [-1.5155534 , -0.15804853],\n",
       "        [-0.78971776,  1.70347973],\n",
       "        [ 0.85887841,  1.04457966],\n",
       "        [-0.45001335,  0.27345841],\n",
       "        [ 0.7099324 ,  0.69020919],\n",
       "        [-0.79095935,  1.60495551],\n",
       "        [-1.08077536, -1.15530746],\n",
       "        [-1.5691733 , -0.54054806],\n",
       "        [-0.52568843,  1.52568161],\n",
       "        [-1.27406042, -0.1434304 ],\n",
       "        [ 0.89621114, -1.11509679],\n",
       "        [-0.85259895, -1.42554982],\n",
       "        [-0.63262806,  1.2217558 ],\n",
       "        [-0.86447712, -1.40921978],\n",
       "        [-0.47819102,  3.17462483],\n",
       "        [-1.25230004, -0.57685918],\n",
       "        [-0.84475639, -1.44303438],\n",
       "        [ 1.07510938, -1.00137091],\n",
       "        [-0.95126327,  0.9659913 ],\n",
       "        [-1.09530458,  1.23965215],\n",
       "        [ 0.48229726,  1.62411168],\n",
       "        [-0.502186  ,  2.05132133],\n",
       "        [-1.54398637,  0.01188478],\n",
       "        [-1.08864222, -0.85261295],\n",
       "        [-0.90131654, -0.96654311],\n",
       "        [ 1.69606253,  0.2914725 ],\n",
       "        [ 1.12018826, -1.24017985],\n",
       "        [ 1.06080576,  0.58530898],\n",
       "        [-1.4424493 ,  0.2768457 ],\n",
       "        [-0.70726877, -1.75151751],\n",
       "        [ 1.04984745,  0.18471318],\n",
       "        [ 1.33139049, -0.66176572],\n",
       "        [ 0.651448  , -1.21037691],\n",
       "        [-0.95710526, -1.01412185],\n",
       "        [ 1.50284911,  0.18387793],\n",
       "        [-1.01103813,  1.66092093],\n",
       "        [ 0.24305711, -1.56629795],\n",
       "        [-0.40394191,  1.94981005],\n",
       "        [-1.51594823, -0.02488133],\n",
       "        [ 0.75221692, -1.09094359],\n",
       "        [-1.10325445, -0.70158632],\n",
       "        [-1.02489651,  1.25959039],\n",
       "        [-0.76070629, -1.49363676],\n",
       "        [-0.67325919, -1.78962393],\n",
       "        [ 0.56574606, -1.25127924],\n",
       "        [ 1.11298159, -0.90801871],\n",
       "        [ 1.16188579,  0.50520809],\n",
       "        [ 0.68064537, -1.20440239],\n",
       "        [-1.47955308,  0.04255402],\n",
       "        [ 0.48134584, -0.44632785],\n",
       "        [ 0.92116205, -1.07020755],\n",
       "        [-1.1068686 ,  1.71718559],\n",
       "        [ 0.32953519,  1.34104147],\n",
       "        [ 0.94913223,  1.11955768],\n",
       "        [ 0.8756767 ,  0.76529832],\n",
       "        [-1.18951588,  0.38360693],\n",
       "        [-1.36910947, -0.17113665],\n",
       "        [-1.01015351,  0.85809225],\n",
       "        [-1.66153635,  0.46339315],\n",
       "        [ 0.98173251, -0.91625701],\n",
       "        [ 0.82300836, -1.06633261],\n",
       "        [ 0.51027603, -1.3812928 ],\n",
       "        [ 1.04541272, -0.92751156],\n",
       "        [-0.85436664,  1.92296129],\n",
       "        [-0.71572893, -1.63971434],\n",
       "        [ 0.6486895 ,  1.2600083 ],\n",
       "        [ 0.7185152 , -1.31918161],\n",
       "        [ 0.85565037, -0.99134803],\n",
       "        [ 1.01737804, -1.06220957],\n",
       "        [-0.78702113,  0.89352558],\n",
       "        [ 1.63147164,  1.10755772],\n",
       "        [ 0.62577573, -1.24174887],\n",
       "        [-0.62679113, -1.73440213],\n",
       "        [ 0.63378314,  0.28733318],\n",
       "        [ 0.91533271,  0.85370495],\n",
       "        [ 1.37320248,  1.6689382 ],\n",
       "        [-1.31610584, -0.63788135],\n",
       "        [-0.95543218, -1.18054667],\n",
       "        [ 0.67697979, -1.0689833 ],\n",
       "        [ 1.38216805, -0.49634539],\n",
       "        [-0.30121926,  1.71834622],\n",
       "        [ 2.14957042, -0.3114632 ],\n",
       "        [ 0.94046067, -1.10029918],\n",
       "        [-0.84521171,  1.66086437],\n",
       "        [-1.42368943,  0.39184587],\n",
       "        [ 0.9825172 ,  0.33847597],\n",
       "        [-1.29401108, -0.54922692]]),\n",
       " array([1, 1, 0, 0, 0, 1, 1, 1, 0, 1, 0, 0, 1, 0, 0, 1, 1, 1, 0, 0, 0, 0,\n",
       "        0, 1, 0, 0, 0, 0, 0, 0, 1, 0, 0, 1, 0, 0, 0, 0, 1, 1, 1, 0, 0, 1,\n",
       "        1, 1, 0, 1, 0, 1, 1, 0, 1, 0, 0, 0, 0, 1, 1, 1, 1, 0, 1, 1, 0, 1,\n",
       "        1, 1, 0, 0, 0, 0, 1, 1, 1, 1, 0, 0, 1, 1, 1, 1, 0, 1, 1, 0, 1, 1,\n",
       "        1, 0, 0, 1, 1, 0, 1, 1, 0, 0, 1, 0]))"
      ]
     },
     "execution_count": 24,
     "metadata": {},
     "output_type": "execute_result"
    }
   ],
   "source": [
    "from sklearn import datasets\n",
    "from matplotlib.colors import ListedColormap\n",
    "\n",
    "# сгеренируем данные с помощью sklearn.datasets\n",
    "X, y = datasets.make_classification(n_samples=100, n_features=2, n_informative=2,\n",
    "                                    n_redundant=0, n_classes=2, random_state=1)\n",
    "X, y"
   ]
  },
  {
   "cell_type": "code",
   "execution_count": 25,
   "id": "782d066f",
   "metadata": {},
   "outputs": [
    {
     "data": {
      "image/png": "[encoded data removed]",
      "text/plain": [
       "<Figure size 576x576 with 1 Axes>"
      ]
     },
     "metadata": {
      "needs_background": "light"
     },
     "output_type": "display_data"
    }
   ],
   "source": [
    "# и изобразим их на графике\n",
    "colors = ListedColormap(['blue', 'red'])\n",
    "\n",
    "plt.figure(figsize=(8, 8))\n",
    "plt.scatter(X[:, 0], X[:, 1], c=y, cmap=colors);"
   ]
  },
  {
   "cell_type": "markdown",
   "id": "e2001dac",
   "metadata": {},
   "source": [
    "Далее разделим выборку на обучающую и тестовую."
   ]
  },
  {
   "cell_type": "code",
   "execution_count": 27,
   "id": "2872d6b5",
   "metadata": {},
   "outputs": [],
   "source": [
    "from sklearn.model_selection import train_test_split\n",
    "\n",
    "train_X, test_X, train_y, test_y = train_test_split(X, \n",
    "                                       y, \n",
    "                                       test_size=0.3,\n",
    "                                       random_state=1)"
   ]
  },
  {
   "cell_type": "code",
   "execution_count": 28,
   "id": "69bb9e5c",
   "metadata": {},
   "outputs": [
    {
     "data": {
      "text/plain": [
       "((70, 2), (30, 2), (70,), (30,))"
      ]
     },
     "execution_count": 28,
     "metadata": {},
     "output_type": "execute_result"
    }
   ],
   "source": [
    "train_X.shape, test_X.shape, train_y.shape, test_y.shape"
   ]
  },
  {
   "cell_type": "markdown",
   "id": "fd2af61b",
   "metadata": {},
   "source": [
    "Реализуем функцию потерь log loss с одновременным расчетом градиента."
   ]
  },
  {
   "cell_type": "markdown",
   "id": "acb6dad6",
   "metadata": {},
   "source": [
    "Оптимизировать функционал ошибки будем с помощью градиентного спуска, его вид в случае использования такой функции потерь будет:\n",
    "\n",
    "$$w_{n+1} = w_{n} - \\eta \\frac{1}{l}X^{T}(A-Y),$$\n",
    "\n",
    "где $A=\\frac{1}{1 + exp(-\\left \\langle w,x_{i} \\right \\rangle)}.$"
   ]
  },
  {
   "cell_type": "code",
   "execution_count": 29,
   "id": "874ddbff",
   "metadata": {},
   "outputs": [],
   "source": [
    "def log_loss(w, X, y):\n",
    "    m = X.shape[0]\n",
    "    # используем функцию сигмоиды, написанную ранее\n",
    "    A = sigmoid(np.dot(X, w))\n",
    "        \n",
    "    # labels 0, 1\n",
    "    loss = -1.0 / m * np.sum(y * np.log(A) + (1 - y) * np.log(1 - A))\n",
    "    grad = 1.0 / m * X.T @ (A - y)\n",
    "\n",
    "    return loss, grad"
   ]
  },
  {
   "cell_type": "code",
   "execution_count": 31,
   "id": "a6da9b93",
   "metadata": {},
   "outputs": [],
   "source": [
    "##Реализуем градиентный спуск\n",
    "def grad(w, X, y, n_iterations, eta):\n",
    "    #Список значений ф-и потерь, для дальнейнего отображения\n",
    "    losses = []\n",
    "    for i in range(n_iterations):\n",
    "        loss, grad = log_loss(w, X, y)\n",
    "        w = w - eta*grad\n",
    "        losses.append(loss)\n",
    "    return w, losses"
   ]
  },
  {
   "cell_type": "code",
   "execution_count": 37,
   "id": "4d09980e",
   "metadata": {},
   "outputs": [],
   "source": [
    "#Функция для предсказываний \n",
    "def predict(w, X):\n",
    "    A = np.squeeze(sigmoid(np.dot(X, w)))\n",
    "    \n",
    "    y_pred = np.zeros(X.shape[0])\n",
    "    \n",
    "    for i in range(A.shape[0]):\n",
    "        if A[i] > 0.5:\n",
    "            y_pred[i] = 1\n",
    "        else:\n",
    "            y_pred[i] = 0\n",
    "            \n",
    "    return y_pred"
   ]
  },
  {
   "cell_type": "code",
   "execution_count": 38,
   "id": "1e3de771",
   "metadata": {},
   "outputs": [
    {
     "name": "stdout",
     "output_type": "stream",
     "text": [
      "Итоговый вектор весов w: [3.67273405 0.14147248]\n",
      "Точность на обучающей выборке: 95.714\n",
      "Точность на тестовой выборке: 100.000\n"
     ]
    }
   ],
   "source": [
    "# иницилизируем начальный вектор весов\n",
    "w0 = np.zeros(train_X.shape[1])\n",
    "# Начнем обучение \n",
    "n_iterations = 1000\n",
    "eta = 0.05\n",
    "\n",
    "w, losses = grad(w0, train_X, train_y, n_iterations, eta)\n",
    "\n",
    "y_predicted_test = predict(w, test_X)\n",
    "\n",
    "y_predicted_train = predict(w, train_X)\n",
    "\n",
    "# В качестве меры точности возьмем долю правильных ответов\n",
    "train_accuracy = np.mean(y_predicted_train == train_y) * 100.0\n",
    "test_accuracy = np.mean(y_predicted_test == test_y) * 100.0\n",
    "\n",
    "print(f\"Итоговый вектор весов w: {w}\")\n",
    "print(f\"Точность на обучающей выборке: {train_accuracy:.3f}\")\n",
    "print(f\"Точность на тестовой выборке: {test_accuracy:.3f}\")"
   ]
  },
  {
   "cell_type": "code",
   "execution_count": 39,
   "id": "2757d3e8",
   "metadata": {},
   "outputs": [
    {
     "data": {
      "image/png": "[encoded data removed]",
      "text/plain": [
       "<Figure size 432x288 with 1 Axes>"
      ]
     },
     "metadata": {
      "needs_background": "light"
     },
     "output_type": "display_data"
    }
   ],
   "source": [
    "#Изменение ф-и потерь\n",
    "plt.title('Log loss')\n",
    "plt.xlabel('iterations')\n",
    "plt.ylabel('loss')\n",
    "plt.plot(range(len(losses)), losses);"
   ]
  },
  {
   "cell_type": "markdown",
   "id": "126f9cf4",
   "metadata": {},
   "source": [
    "#Визуализация взята с сайта [Визуализация](https://scikit-learn.org/stable/auto_examples/linear_model/plot_iris_logistic.html#sphx-glr-auto-examples-linear-model-plot-iris-logistic-py)"
   ]
  },
  {
   "cell_type": "code",
   "execution_count": 40,
   "id": "a296c0bc",
   "metadata": {},
   "outputs": [
    {
     "name": "stderr",
     "output_type": "stream",
     "text": [
      "C:\\Users\\alimc\\AppData\\Local\\Temp/ipykernel_1612/1611187258.py:12: MatplotlibDeprecationWarning: shading='flat' when X and Y have the same dimensions as C is deprecated since 3.3.  Either specify the corners of the quadrilaterals with X and Y, or pass shading='auto', 'nearest' or 'gouraud', or set rcParams['pcolor.shading'].  This will become an error two minor releases later.\n",
      "  plt.pcolormesh(xx, yy, Z, cmap=plt.cm.Paired)\n"
     ]
    },
    {
     "data": {
      "image/png": "[encoded data removed]",
      "text/plain": [
       "<Figure size 576x576 with 1 Axes>"
      ]
     },
     "metadata": {
      "needs_background": "light"
     },
     "output_type": "display_data"
    }
   ],
   "source": [
    " \n",
    "plt.figure(figsize=(8, 8))\n",
    "\n",
    "x_min, x_max = X[:, 0].min() - .5, X[:, 0].max() + .5\n",
    "y_min, y_max = X[:, 1].min() - .5, X[:, 1].max() + .5\n",
    "h = .02  # step size in the mesh\n",
    "xx, yy = np.meshgrid(np.arange(x_min, x_max, h), np.arange(y_min, y_max, h))\n",
    "Z = predict(w, np.c_[xx.ravel(), yy.ravel()])\n",
    "\n",
    "# Put the result into a color plot\n",
    "Z = Z.reshape(xx.shape)\n",
    "plt.pcolormesh(xx, yy, Z, cmap=plt.cm.Paired)\n",
    "\n",
    "plt.scatter(X[:, 0], X[:, 1], c=y, cmap=colors);"
   ]
  },
  {
   "cell_type": "markdown",
   "id": "553764f7",
   "metadata": {},
   "source": [
    "## Оценку классификации можно проводить по разному, для этого существуют метрики, такие как accuracy, precision, recall, f1_score"
   ]
  },
  {
   "cell_type": "code",
   "execution_count": null,
   "id": "08c21e37",
   "metadata": {},
   "outputs": [],
   "source": []
  }
 ],
 "metadata": {
  "kernelspec": {
   "display_name": "Python 3 (ipykernel)",
   "language": "python",
   "name": "python3"
  },
  "language_info": {
   "codemirror_mode": {
    "name": "ipython",
    "version": 3
   },
   "file_extension": ".py",
   "mimetype": "text/x-python",
   "name": "python",
   "nbconvert_exporter": "python",
   "pygments_lexer": "ipython3",
   "version": "3.9.7"
  }
 },
 "nbformat": 4,
 "nbformat_minor": 5
}
